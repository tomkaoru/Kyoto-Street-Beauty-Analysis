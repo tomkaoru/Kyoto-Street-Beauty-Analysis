{
 "cells": [
  {
   "cell_type": "code",
   "execution_count": 1,
   "id": "42cf778d",
   "metadata": {},
   "outputs": [],
   "source": [
    "# pip install osmnx"
   ]
  },
  {
   "cell_type": "code",
   "execution_count": 2,
   "id": "cf2b20b7",
   "metadata": {},
   "outputs": [],
   "source": [
    "import osmnx as ox"
   ]
  },
  {
   "cell_type": "code",
   "execution_count": 3,
   "id": "96fe8f52",
   "metadata": {},
   "outputs": [],
   "source": [
    "# Code to retrieve street network and angles\n",
    "G=ox.graph_from_address('Kyoto,Japan',network_type='drive',dist=5000)\n",
    "\n",
    "ox.bearing.add_edge_bearings(G)\n",
    "\n",
    "ox.plot_graph(G)\n",
    "\n",
    "#turn graph into a geodataframe\n",
    "edgeDF=ox.graph_to_gdfs(G,nodes=False)\n",
    "\n",
    "#sample from this edgelist dataframe"
   ]
  },
  {
   "cell_type": "code",
   "execution_count": 4,
   "id": "65ff1265",
   "metadata": {},
   "outputs": [],
   "source": [
    "len(edgeDF)\n",
    "# 55458"
   ]
  },
  {
   "cell_type": "code",
   "execution_count": 5,
   "id": "c68a3923",
   "metadata": {},
   "outputs": [],
   "source": [
    "edge_sample = edgeDF.sample(n=24000,replace=False,random_state=0)\n",
    "edge_sample = edge_sample.reset_index()  "
   ]
  },
  {
   "cell_type": "code",
   "execution_count": 6,
   "id": "7da9761e",
   "metadata": {},
   "outputs": [],
   "source": [
    "def get_firstpointlong(row):\n",
    "    return row['geometry'].coords[0][0]\n",
    "#     return np.sqrt((row[\"Eastings\"]-piccadillycircus[0])**2 + (row[\"Northings\"]-piccadillycircus[1])**2)\n",
    "def get_firstpointlat(row):\n",
    "    return row['geometry'].coords[0][1]\n",
    "\n",
    "#new feature\n",
    "edge_sample[\"long\"] = edge_sample.apply(lambda row: get_firstpointlong(row), axis=1)\n",
    "edge_sample[\"lat\"] = edge_sample.apply(lambda row: get_firstpointlat(row), axis=1)"
   ]
  },
  {
   "cell_type": "code",
   "execution_count": 7,
   "id": "5710c6cf",
   "metadata": {},
   "outputs": [],
   "source": [
    "edge_sample.head()"
   ]
  },
  {
   "cell_type": "code",
   "execution_count": 8,
   "id": "8a7cff33",
   "metadata": {},
   "outputs": [],
   "source": [
    "# save dataframe as csv\n",
    "edge_sample.to_csv('dataframe.csv', index = False)"
   ]
  },
  {
   "cell_type": "code",
   "execution_count": 9,
   "id": "5415b4a7",
   "metadata": {},
   "outputs": [],
   "source": [
    "edge_sample.columns"
   ]
  },
  {
   "cell_type": "code",
   "execution_count": 10,
   "id": "ed525d32",
   "metadata": {},
   "outputs": [],
   "source": [
    "import csv\n",
    "data = open('data.csv', 'w',newline='')\n",
    "data_writer = csv.writer(data)\n",
    "data_writer.writerow(['index','u','v','osmid','long','lat','bearing','geometry'])\n",
    "\n",
    "data_backup = open('data_backup.csv', 'w',newline='')\n",
    "data_backup_writer = csv.writer(data_backup)\n",
    "data_backup_writer.writerow(['index','u','v','osmid','long','lat','bearing','geometry'])"
   ]
  },
  {
   "cell_type": "code",
   "execution_count": 11,
   "id": "fbfdde38",
   "metadata": {},
   "outputs": [],
   "source": [
    "# edge_sample(edge_sample.iloc[15906])\n",
    "# edge_sample(edge_sample.iloc[15907])\n",
    "# edge_sample(edge_sample.iloc[15908])\n",
    "# edge_sample(edge_sample.iloc[15909])\n",
    "# edge_sample(edge_sample.iloc[15910])\n",
    "\n",
    "# GetStreet(1000000,edge_sample.iloc[0]['bearing'],\n",
    "#           edge_sample.iloc[0]['lat'],edge_sample.iloc[0]['long'])"
   ]
  },
  {
   "cell_type": "code",
   "execution_count": 12,
   "id": "91641242",
   "metadata": {},
   "outputs": [],
   "source": [
    "# # parameters\n",
    "# # heading: 0 & 360 is North & 90 is East & 180 is South\n",
    "# # fov: horizontal field of view of the image (default is 90)\n",
    "# # smaller fov indicates higher level of zoom\n",
    "# # pitch up or down angle of the camera (default is 0)\n",
    "# # 90 is straight up & -90 is straight down\n",
    "\n",
    "# #write to csv\n",
    "\n",
    "import os\n",
    "import urllib.parse\n",
    "import urllib.request\n",
    "\n",
    "key = \"&key=\"+'APIKEY' #API KEY\n",
    "\n",
    "def GetStreet(num,heading,lat,long):\n",
    "    pic_base = \"https://maps.googleapis.com/maps/api/streetview?size=640x640&source=outdoor&\"\n",
    "    pic_base = pic_base + \"location=\" + str(lat) + \",\" + str(long) \n",
    "    pic_base = pic_base + \"&heading=\" + str(heading)\n",
    "    pic_base = pic_base + key #added url encoding\n",
    "    fi = str(lat) + \"_\" + str(long) + \".jpg\"  #add lat long to image\n",
    "#     print(pic_base)\n",
    "    fi = str(num) + \".jpg\"\n",
    "    urllib.request.urlretrieve(pic_base, os.path.join(\"images\",fi))\n",
    "\n",
    "\n",
    "n = 0\n",
    "# for index, row in edge_sample.iloc[15914:].iterrows(): #iterate each row in dataframe\n",
    "for index, row in edge_sample.iterrows():\n",
    "    print(index)\n",
    "    GetStreet(n,row['bearing'],row['lat'],row['long'])\n",
    "    n+=1\n",
    "    data_writer.writerow([index,row['u'],row['v'],row['osmid'],row['long'],row['lat'],row['bearing'],row['geometry']])\n",
    "    data_backup_writer.writerow([index,row['u'],row['v'],row['osmid'],row['long'],row['lat'],row['bearing'],row['geometry']])\n",
    "data.close()\n",
    "data_backup.close()\n",
    "#     print(row['c1'], row['c2'])    \n",
    "    \n",
    "# for i in range(len(Tests)):\n",
    "#     GetStreet(str(i),Tests[i])"
   ]
  },
  {
   "cell_type": "code",
   "execution_count": null,
   "id": "dd7f3138",
   "metadata": {},
   "outputs": [],
   "source": []
  }
 ],
 "metadata": {
  "kernelspec": {
   "display_name": "Python 3 (ipykernel)",
   "language": "python",
   "name": "python3"
  },
  "language_info": {
   "codemirror_mode": {
    "name": "ipython",
    "version": 3
   },
   "file_extension": ".py",
   "mimetype": "text/x-python",
   "name": "python",
   "nbconvert_exporter": "python",
   "pygments_lexer": "ipython3",
   "version": "3.11.3"
  }
 },
 "nbformat": 4,
 "nbformat_minor": 5
}
