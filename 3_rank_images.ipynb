{
 "cells": [
  {
   "cell_type": "code",
   "execution_count": 5,
   "id": "42cf778d",
   "metadata": {},
   "outputs": [],
   "source": [
    "import pandas as pd\n",
    "df = pd.read_json ('/kyoto/data.json')\n",
    "csv_file = df.to_csv ('comparison_results.csv', index = True)"
   ]
  },
  {
   "cell_type": "code",
   "execution_count": null,
   "id": "6669bbda",
   "metadata": {},
   "outputs": [],
   "source": [
    "csv_file = pd.read_csv('comparison_results.csv')\n",
    "csv_file = csv_file.transpose()"
   ]
  },
  {
   "cell_type": "code",
   "execution_count": 7,
   "id": "2de20bce",
   "metadata": {},
   "outputs": [
    {
     "data": {
      "text/html": [
       "<div>\n",
       "<style scoped>\n",
       "    .dataframe tbody tr th:only-of-type {\n",
       "        vertical-align: middle;\n",
       "    }\n",
       "\n",
       "    .dataframe tbody tr th {\n",
       "        vertical-align: top;\n",
       "    }\n",
       "\n",
       "    .dataframe thead th {\n",
       "        text-align: right;\n",
       "    }\n",
       "</style>\n",
       "<table border=\"1\" class=\"dataframe\">\n",
       "  <thead>\n",
       "    <tr style=\"text-align: right;\">\n",
       "      <th>Unnamed: 0</th>\n",
       "      <th>pic1</th>\n",
       "      <th>pic2</th>\n",
       "      <th>which</th>\n",
       "    </tr>\n",
       "  </thead>\n",
       "  <tbody>\n",
       "    <tr>\n",
       "      <th>-NXV9eNdXgaiF-vFK3rq</th>\n",
       "      <td>5</td>\n",
       "      <td>355</td>\n",
       "      <td>1</td>\n",
       "    </tr>\n",
       "    <tr>\n",
       "      <th>-NXV9fx7k1lQQS3DtT0A</th>\n",
       "      <td>803</td>\n",
       "      <td>949</td>\n",
       "      <td>0</td>\n",
       "    </tr>\n",
       "    <tr>\n",
       "      <th>-NXV9lH466WD6tZgzWft</th>\n",
       "      <td>558</td>\n",
       "      <td>345</td>\n",
       "      <td>1</td>\n",
       "    </tr>\n",
       "    <tr>\n",
       "      <th>-NXV9pNCluPp28wF_lON</th>\n",
       "      <td>1202</td>\n",
       "      <td>1344</td>\n",
       "      <td>0</td>\n",
       "    </tr>\n",
       "    <tr>\n",
       "      <th>-NXV9pnvHvYNdrU-rVEY</th>\n",
       "      <td>926</td>\n",
       "      <td>777</td>\n",
       "      <td>0</td>\n",
       "    </tr>\n",
       "    <tr>\n",
       "      <th>...</th>\n",
       "      <td>...</td>\n",
       "      <td>...</td>\n",
       "      <td>...</td>\n",
       "    </tr>\n",
       "    <tr>\n",
       "      <th>-NZ0XNiN8txIMEVg867K</th>\n",
       "      <td>1487</td>\n",
       "      <td>1051</td>\n",
       "      <td>1</td>\n",
       "    </tr>\n",
       "    <tr>\n",
       "      <th>-NZ0XNzVM1Vqm6U7lWEv</th>\n",
       "      <td>245</td>\n",
       "      <td>701</td>\n",
       "      <td>0</td>\n",
       "    </tr>\n",
       "    <tr>\n",
       "      <th>-NZ0XOAOcvCrO87opmWi</th>\n",
       "      <td>1473</td>\n",
       "      <td>1484</td>\n",
       "      <td>1</td>\n",
       "    </tr>\n",
       "    <tr>\n",
       "      <th>-NZ0XOPtsP3C2GnLuEDn</th>\n",
       "      <td>1008</td>\n",
       "      <td>652</td>\n",
       "      <td>0</td>\n",
       "    </tr>\n",
       "    <tr>\n",
       "      <th>-NZ0XOatobyIsfCdId__</th>\n",
       "      <td>425</td>\n",
       "      <td>1234</td>\n",
       "      <td>1</td>\n",
       "    </tr>\n",
       "  </tbody>\n",
       "</table>\n",
       "<p>23332 rows × 3 columns</p>\n",
       "</div>"
      ],
      "text/plain": [
       "Unnamed: 0            pic1  pic2 which\n",
       "-NXV9eNdXgaiF-vFK3rq     5   355     1\n",
       "-NXV9fx7k1lQQS3DtT0A   803   949     0\n",
       "-NXV9lH466WD6tZgzWft   558   345     1\n",
       "-NXV9pNCluPp28wF_lON  1202  1344     0\n",
       "-NXV9pnvHvYNdrU-rVEY   926   777     0\n",
       "...                    ...   ...   ...\n",
       "-NZ0XNiN8txIMEVg867K  1487  1051     1\n",
       "-NZ0XNzVM1Vqm6U7lWEv   245   701     0\n",
       "-NZ0XOAOcvCrO87opmWi  1473  1484     1\n",
       "-NZ0XOPtsP3C2GnLuEDn  1008   652     0\n",
       "-NZ0XOatobyIsfCdId__   425  1234     1\n",
       "\n",
       "[23332 rows x 3 columns]"
      ]
     },
     "execution_count": 7,
     "metadata": {},
     "output_type": "execute_result"
    }
   ],
   "source": [
    "code from https://stackoverflow.com/questions/31328861/replacing-header-with-top-row\n",
    "new_header = csv_file.iloc[0] #grab the first row for the header\n",
    "csv_file = csv_file[1:] #take the data less the header row\n",
    "csv_file.columns = new_header #set the header row as the df header\n",
    "csv_file"
   ]
  },
  {
   "cell_type": "code",
   "execution_count": 9,
   "id": "40b12437",
   "metadata": {},
   "outputs": [],
   "source": [
    "csv_file.to_csv('comparisons.csv', index = True)"
   ]
  },
  {
   "cell_type": "code",
   "execution_count": 10,
   "id": "c7cbf60f",
   "metadata": {},
   "outputs": [],
   "source": [
    "invalid = [128,237,342,422,1171,1316,1332,1384,1389]"
   ]
  },
  {
   "cell_type": "code",
   "execution_count": 11,
   "id": "02583447",
   "metadata": {},
   "outputs": [],
   "source": [
    "csv_file = csv_file[~csv_file['pic1'].isin(invalid)]\n",
    "csv_file = csv_file[~csv_file['pic2'].isin(invalid)]"
   ]
  },
  {
   "cell_type": "code",
   "execution_count": 13,
   "id": "287fa6cd",
   "metadata": {},
   "outputs": [],
   "source": [
    "csv_file #23332 rows to 23039 rows\n",
    "csv_file.to_csv('comparisons_cleaned.csv', index = True)"
   ]
  },
  {
   "cell_type": "code",
   "execution_count": 14,
   "id": "239c64ec",
   "metadata": {},
   "outputs": [
    {
     "name": "stdout",
     "output_type": "stream",
     "text": [
      "Collecting trueskill\n",
      "  Downloading trueskill-0.4.5.tar.gz (21 kB)\n",
      "  Preparing metadata (setup.py) ... \u001b[?25ldone\n",
      "\u001b[?25hRequirement already satisfied: six in /Users/ryotatorii/anaconda3/envs/kyoto/lib/python3.11/site-packages (from trueskill) (1.16.0)\n",
      "Building wheels for collected packages: trueskill\n",
      "  Building wheel for trueskill (setup.py) ... \u001b[?25ldone\n",
      "\u001b[?25h  Created wheel for trueskill: filename=trueskill-0.4.5-py3-none-any.whl size=18049 sha256=2ebc48aa237b27954d823eba29069207cf6cf35c8ed46623418ff0cdcd273eb2\n",
      "  Stored in directory: /Users/ryotatorii/Library/Caches/pip/wheels/b1/20/f2/bb1bca2728bad41aa94d5bf7ca2f8148fd00d2c2e3adfe2ea2\n",
      "Successfully built trueskill\n",
      "Installing collected packages: trueskill\n",
      "Successfully installed trueskill-0.4.5\n"
     ]
    }
   ],
   "source": [
    "# !pip install trueskill"
   ]
  },
  {
   "cell_type": "markdown",
   "id": "31fe4798",
   "metadata": {},
   "source": []
  },
  {
   "cell_type": "code",
   "execution_count": 15,
   "id": "ea60cd93",
   "metadata": {},
   "outputs": [],
   "source": [
    "from trueskill import Rating, quality_1vs1, rate_1vs1"
   ]
  },
  {
   "cell_type": "code",
   "execution_count": 18,
   "id": "8ba7d1c0",
   "metadata": {},
   "outputs": [
    {
     "name": "stdout",
     "output_type": "stream",
     "text": [
      "trueskill.Rating(mu=25.000, sigma=8.333) trueskill.Rating(mu=25.000, sigma=8.333)\n",
      "trueskill.Rating(mu=20.604, sigma=7.171) trueskill.Rating(mu=29.396, sigma=7.171)\n"
     ]
    }
   ],
   "source": [
    "# alice, bob = Rating(), Rating()\n",
    "# print(alice,bob)\n",
    "# bob, alice = rate_1vs1(bob, alice)\n",
    "# print(alice,bob)"
   ]
  },
  {
   "cell_type": "code",
   "execution_count": 25,
   "id": "f5ff568a",
   "metadata": {},
   "outputs": [
    {
     "data": {
      "text/plain": [
       "20.604167980000835"
      ]
     },
     "execution_count": 25,
     "metadata": {},
     "output_type": "execute_result"
    }
   ],
   "source": [
    "# dir(alice)\n",
    "# getattr(alice, 'mu')"
   ]
  },
  {
   "cell_type": "code",
   "execution_count": 28,
   "id": "9c397ff9",
   "metadata": {},
   "outputs": [],
   "source": [
    "rl = [Rating() for i in range(1500)]\n",
    "csv_file = pd.read_csv('comparisons_cleaned.csv')\n",
    "csv_file = csv_file.reset_index()  # make sure indexes pair with number of rows"
   ]
  },
  {
   "cell_type": "code",
   "execution_count": 29,
   "id": "d6ccfb8b",
   "metadata": {},
   "outputs": [
    {
     "data": {
      "text/html": [
       "<div>\n",
       "<style scoped>\n",
       "    .dataframe tbody tr th:only-of-type {\n",
       "        vertical-align: middle;\n",
       "    }\n",
       "\n",
       "    .dataframe tbody tr th {\n",
       "        vertical-align: top;\n",
       "    }\n",
       "\n",
       "    .dataframe thead th {\n",
       "        text-align: right;\n",
       "    }\n",
       "</style>\n",
       "<table border=\"1\" class=\"dataframe\">\n",
       "  <thead>\n",
       "    <tr style=\"text-align: right;\">\n",
       "      <th></th>\n",
       "      <th>Unnamed: 0</th>\n",
       "      <th>pic1</th>\n",
       "      <th>pic2</th>\n",
       "      <th>which</th>\n",
       "    </tr>\n",
       "  </thead>\n",
       "  <tbody>\n",
       "    <tr>\n",
       "      <th>0</th>\n",
       "      <td>-NXV9eNdXgaiF-vFK3rq</td>\n",
       "      <td>5</td>\n",
       "      <td>355</td>\n",
       "      <td>1</td>\n",
       "    </tr>\n",
       "    <tr>\n",
       "      <th>1</th>\n",
       "      <td>-NXV9fx7k1lQQS3DtT0A</td>\n",
       "      <td>803</td>\n",
       "      <td>949</td>\n",
       "      <td>0</td>\n",
       "    </tr>\n",
       "    <tr>\n",
       "      <th>2</th>\n",
       "      <td>-NXV9lH466WD6tZgzWft</td>\n",
       "      <td>558</td>\n",
       "      <td>345</td>\n",
       "      <td>1</td>\n",
       "    </tr>\n",
       "    <tr>\n",
       "      <th>3</th>\n",
       "      <td>-NXV9pNCluPp28wF_lON</td>\n",
       "      <td>1202</td>\n",
       "      <td>1344</td>\n",
       "      <td>0</td>\n",
       "    </tr>\n",
       "    <tr>\n",
       "      <th>4</th>\n",
       "      <td>-NXV9pnvHvYNdrU-rVEY</td>\n",
       "      <td>926</td>\n",
       "      <td>777</td>\n",
       "      <td>0</td>\n",
       "    </tr>\n",
       "    <tr>\n",
       "      <th>...</th>\n",
       "      <td>...</td>\n",
       "      <td>...</td>\n",
       "      <td>...</td>\n",
       "      <td>...</td>\n",
       "    </tr>\n",
       "    <tr>\n",
       "      <th>23034</th>\n",
       "      <td>-NZ0XNiN8txIMEVg867K</td>\n",
       "      <td>1487</td>\n",
       "      <td>1051</td>\n",
       "      <td>1</td>\n",
       "    </tr>\n",
       "    <tr>\n",
       "      <th>23035</th>\n",
       "      <td>-NZ0XNzVM1Vqm6U7lWEv</td>\n",
       "      <td>245</td>\n",
       "      <td>701</td>\n",
       "      <td>0</td>\n",
       "    </tr>\n",
       "    <tr>\n",
       "      <th>23036</th>\n",
       "      <td>-NZ0XOAOcvCrO87opmWi</td>\n",
       "      <td>1473</td>\n",
       "      <td>1484</td>\n",
       "      <td>1</td>\n",
       "    </tr>\n",
       "    <tr>\n",
       "      <th>23037</th>\n",
       "      <td>-NZ0XOPtsP3C2GnLuEDn</td>\n",
       "      <td>1008</td>\n",
       "      <td>652</td>\n",
       "      <td>0</td>\n",
       "    </tr>\n",
       "    <tr>\n",
       "      <th>23038</th>\n",
       "      <td>-NZ0XOatobyIsfCdId__</td>\n",
       "      <td>425</td>\n",
       "      <td>1234</td>\n",
       "      <td>1</td>\n",
       "    </tr>\n",
       "  </tbody>\n",
       "</table>\n",
       "<p>23039 rows × 4 columns</p>\n",
       "</div>"
      ],
      "text/plain": [
       "                 Unnamed: 0  pic1  pic2  which\n",
       "0      -NXV9eNdXgaiF-vFK3rq     5   355      1\n",
       "1      -NXV9fx7k1lQQS3DtT0A   803   949      0\n",
       "2      -NXV9lH466WD6tZgzWft   558   345      1\n",
       "3      -NXV9pNCluPp28wF_lON  1202  1344      0\n",
       "4      -NXV9pnvHvYNdrU-rVEY   926   777      0\n",
       "...                     ...   ...   ...    ...\n",
       "23034  -NZ0XNiN8txIMEVg867K  1487  1051      1\n",
       "23035  -NZ0XNzVM1Vqm6U7lWEv   245   701      0\n",
       "23036  -NZ0XOAOcvCrO87opmWi  1473  1484      1\n",
       "23037  -NZ0XOPtsP3C2GnLuEDn  1008   652      0\n",
       "23038  -NZ0XOatobyIsfCdId__   425  1234      1\n",
       "\n",
       "[23039 rows x 4 columns]"
      ]
     },
     "execution_count": 29,
     "metadata": {},
     "output_type": "execute_result"
    }
   ],
   "source": [
    "# csv_file"
   ]
  },
  {
   "cell_type": "code",
   "execution_count": 32,
   "id": "293a1a58",
   "metadata": {},
   "outputs": [],
   "source": [
    "for index, row in csv_file.iterrows():\n",
    "    if row['which'] == 0:\n",
    "        rl[row['pic1']],rl[row['pic2']] = rate_1vs1(rl[row['pic1']],rl[row['pic2']])\n",
    "    else:\n",
    "        rl[row['pic2']],rl[row['pic1']] = rate_1vs1(rl[row['pic2']],rl[row['pic1']])\n",
    "#     print(row['c1'], row['c2'])"
   ]
  },
  {
   "cell_type": "code",
   "execution_count": 35,
   "id": "dd7f3138",
   "metadata": {},
   "outputs": [],
   "source": [
    "rl = [getattr(i, 'mu') for i in rl]"
   ]
  },
  {
   "cell_type": "code",
   "execution_count": 47,
   "id": "dd3848ce",
   "metadata": {},
   "outputs": [],
   "source": [
    "data = pd.read_csv('data.csv')\n",
    "data['valid'] = 0\n",
    "data.loc[invalid,'valid'] = 1\n",
    "data['rating'] = rl"
   ]
  },
  {
   "cell_type": "code",
   "execution_count": 49,
   "id": "b05808dd",
   "metadata": {},
   "outputs": [],
   "source": [
    "data.to_csv('data_val.csv')"
   ]
  },
  {
   "cell_type": "code",
   "execution_count": 50,
   "id": "8c1284cc",
   "metadata": {},
   "outputs": [],
   "source": [
    "data_sorted = data.sort_values('rating')\n",
    "data_sorted.to_csv('data_rating_sorted.csv')"
   ]
  },
  {
   "cell_type": "code",
   "execution_count": 53,
   "id": "b475b704",
   "metadata": {},
   "outputs": [
    {
     "name": "stdout",
     "output_type": "stream",
     "text": [
      "Collecting scikit-learn\n",
      "  Downloading scikit_learn-1.2.2-cp311-cp311-macosx_12_0_arm64.whl (8.4 MB)\n",
      "\u001b[2K     \u001b[90m━━━━━━━━━━━━━━━━━━━━━━━━━━━━━━━━━━━━━━━━\u001b[0m \u001b[32m8.4/8.4 MB\u001b[0m \u001b[31m9.6 MB/s\u001b[0m eta \u001b[36m0:00:00\u001b[0m:00:01\u001b[0m0:01\u001b[0m\n",
      "\u001b[?25hRequirement already satisfied: numpy>=1.17.3 in /Users/ryotatorii/anaconda3/envs/kyoto/lib/python3.11/site-packages (from scikit-learn) (1.24.3)\n",
      "Collecting scipy>=1.3.2\n",
      "  Downloading scipy-1.11.1-cp311-cp311-macosx_12_0_arm64.whl (29.5 MB)\n",
      "\u001b[2K     \u001b[90m━━━━━━━━━━━━━━━━━━━━━━━━━━━━━━━━━━━━━━━━\u001b[0m \u001b[32m29.5/29.5 MB\u001b[0m \u001b[31m12.4 MB/s\u001b[0m eta \u001b[36m0:00:00\u001b[0m00:01\u001b[0m00:01\u001b[0m\n",
      "\u001b[?25hCollecting joblib>=1.1.1\n",
      "  Downloading joblib-1.3.1-py3-none-any.whl (301 kB)\n",
      "\u001b[2K     \u001b[90m━━━━━━━━━━━━━━━━━━━━━━━━━━━━━━━━━━━━━━\u001b[0m \u001b[32m302.0/302.0 kB\u001b[0m \u001b[31m10.2 MB/s\u001b[0m eta \u001b[36m0:00:00\u001b[0m\n",
      "\u001b[?25hCollecting threadpoolctl>=2.0.0\n",
      "  Downloading threadpoolctl-3.1.0-py3-none-any.whl (14 kB)\n",
      "Installing collected packages: threadpoolctl, scipy, joblib, scikit-learn\n",
      "Successfully installed joblib-1.3.1 scikit-learn-1.2.2 scipy-1.11.1 threadpoolctl-3.1.0\n"
     ]
    }
   ],
   "source": [
    "# !pip install scikit-learn"
   ]
  },
  {
   "cell_type": "code",
   "execution_count": 56,
   "id": "49c83982",
   "metadata": {},
   "outputs": [],
   "source": [
    "from sklearn.preprocessing import MinMaxScaler\n",
    "\n",
    "pd_data = pd.read_csv('data_val.csv')\n",
    "scaler = MinMaxScaler()\n",
    "pd_data[\"scaled_rating\"] = scaler.fit_transform(pd_data[[\"rating\"]])\n",
    "\n",
    "pd_data.to_csv('data_val_scaled.csv')"
   ]
  }
 ],
 "metadata": {
  "kernelspec": {
   "display_name": "Python 3 (ipykernel)",
   "language": "python",
   "name": "python3"
  },
  "language_info": {
   "codemirror_mode": {
    "name": "ipython",
    "version": 3
   },
   "file_extension": ".py",
   "mimetype": "text/x-python",
   "name": "python",
   "nbconvert_exporter": "python",
   "pygments_lexer": "ipython3",
   "version": "3.11.3"
  }
 },
 "nbformat": 4,
 "nbformat_minor": 5
}
